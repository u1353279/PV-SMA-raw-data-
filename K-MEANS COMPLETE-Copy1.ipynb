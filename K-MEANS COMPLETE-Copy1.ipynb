{
 "cells": [
  {
   "cell_type": "markdown",
   "metadata": {},
   "source": [
    "# Creating a K-means clusterig model to find the fault classes in a PV installation"
   ]
  },
  {
   "cell_type": "markdown",
   "metadata": {},
   "source": [
    "Importing Modules"
   ]
  },
  {
   "cell_type": "code",
   "execution_count": 1,
   "metadata": {},
   "outputs": [],
   "source": [
    "import numpy as np\n",
    "import pandas as pd\n",
    "\n",
    "import scipy\n",
    "from scipy.cluster.hierarchy import dendrogram, linkage\n",
    "from scipy.cluster.hierarchy import fcluster\n",
    "from scipy.cluster.hierarchy import cophenet\n",
    "from scipy.spatial.distance import pdist\n",
    "\n",
    "from pylab import rcParams\n",
    "import seaborn as sns\n",
    "import matplotlib.pyplot as plt\n",
    "\n",
    "import sklearn\n",
    "from sklearn.cluster import AgglomerativeClustering\n",
    "from sklearn.cluster import KMeans\n",
    "from sklearn.preprocessing import MinMaxScaler\n",
    "%matplotlib inline\n"
   ]
  },
  {
   "cell_type": "code",
   "execution_count": 2,
   "metadata": {},
   "outputs": [],
   "source": [
    "df_new=pd.read_excel('time.xlsx')"
   ]
  },
  {
   "cell_type": "markdown",
   "metadata": {},
   "source": [
    "to add the new columns to the dataframe, we need to convert the lists to a pandas series so that the empty rows will be \n",
    "filled as 'NAN'"
   ]
  },
  {
   "cell_type": "markdown",
   "metadata": {},
   "source": [
    "Drop the original last column"
   ]
  },
  {
   "cell_type": "code",
   "execution_count": 3,
   "metadata": {},
   "outputs": [],
   "source": [
    "df_new=df_new.iloc[:,:-1]"
   ]
  },
  {
   "cell_type": "code",
   "execution_count": 4,
   "metadata": {},
   "outputs": [],
   "source": [
    "df_new=df_new.drop(columns=['TIME'])"
   ]
  },
  {
   "cell_type": "code",
   "execution_count": 5,
   "metadata": {},
   "outputs": [
    {
     "data": {
      "text/html": [
       "<div>\n",
       "<style scoped>\n",
       "    .dataframe tbody tr th:only-of-type {\n",
       "        vertical-align: middle;\n",
       "    }\n",
       "\n",
       "    .dataframe tbody tr th {\n",
       "        vertical-align: top;\n",
       "    }\n",
       "\n",
       "    .dataframe thead th {\n",
       "        text-align: right;\n",
       "    }\n",
       "</style>\n",
       "<table border=\"1\" class=\"dataframe\">\n",
       "  <thead>\n",
       "    <tr style=\"text-align: right;\">\n",
       "      <th></th>\n",
       "      <th>T</th>\n",
       "      <th>G</th>\n",
       "      <th>P</th>\n",
       "    </tr>\n",
       "  </thead>\n",
       "  <tbody>\n",
       "    <tr>\n",
       "      <td>0</td>\n",
       "      <td>3</td>\n",
       "      <td>0.0</td>\n",
       "      <td>0.0</td>\n",
       "    </tr>\n",
       "    <tr>\n",
       "      <td>1</td>\n",
       "      <td>3</td>\n",
       "      <td>0.0</td>\n",
       "      <td>0.0</td>\n",
       "    </tr>\n",
       "    <tr>\n",
       "      <td>2</td>\n",
       "      <td>3</td>\n",
       "      <td>0.0</td>\n",
       "      <td>0.0</td>\n",
       "    </tr>\n",
       "    <tr>\n",
       "      <td>3</td>\n",
       "      <td>3</td>\n",
       "      <td>0.0</td>\n",
       "      <td>0.0</td>\n",
       "    </tr>\n",
       "    <tr>\n",
       "      <td>4</td>\n",
       "      <td>3</td>\n",
       "      <td>0.0</td>\n",
       "      <td>0.0</td>\n",
       "    </tr>\n",
       "    <tr>\n",
       "      <td>...</td>\n",
       "      <td>...</td>\n",
       "      <td>...</td>\n",
       "      <td>...</td>\n",
       "    </tr>\n",
       "    <tr>\n",
       "      <td>97195</td>\n",
       "      <td>21</td>\n",
       "      <td>0.0</td>\n",
       "      <td>0.0</td>\n",
       "    </tr>\n",
       "    <tr>\n",
       "      <td>97196</td>\n",
       "      <td>21</td>\n",
       "      <td>0.0</td>\n",
       "      <td>0.0</td>\n",
       "    </tr>\n",
       "    <tr>\n",
       "      <td>97197</td>\n",
       "      <td>21</td>\n",
       "      <td>0.0</td>\n",
       "      <td>0.0</td>\n",
       "    </tr>\n",
       "    <tr>\n",
       "      <td>97198</td>\n",
       "      <td>21</td>\n",
       "      <td>0.0</td>\n",
       "      <td>0.0</td>\n",
       "    </tr>\n",
       "    <tr>\n",
       "      <td>97199</td>\n",
       "      <td>21</td>\n",
       "      <td>0.0</td>\n",
       "      <td>0.0</td>\n",
       "    </tr>\n",
       "  </tbody>\n",
       "</table>\n",
       "<p>97200 rows × 3 columns</p>\n",
       "</div>"
      ],
      "text/plain": [
       "        T    G    P\n",
       "0       3  0.0  0.0\n",
       "1       3  0.0  0.0\n",
       "2       3  0.0  0.0\n",
       "3       3  0.0  0.0\n",
       "4       3  0.0  0.0\n",
       "...    ..  ...  ...\n",
       "97195  21  0.0  0.0\n",
       "97196  21  0.0  0.0\n",
       "97197  21  0.0  0.0\n",
       "97198  21  0.0  0.0\n",
       "97199  21  0.0  0.0\n",
       "\n",
       "[97200 rows x 3 columns]"
      ]
     },
     "execution_count": 5,
     "metadata": {},
     "output_type": "execute_result"
    }
   ],
   "source": [
    "df_new"
   ]
  },
  {
   "cell_type": "code",
   "execution_count": 6,
   "metadata": {},
   "outputs": [],
   "source": [
    "df_new.loc[(df_new['G'] > df_new['P']) & (df_new['P'] < df_new['G']), 'ratio'] = df_new['ratio'] = df_new['G'] / df_new['P']\n",
    "df_new.loc[(df_new['G'] < df_new['P']) & (df_new['P'] > df_new['G']), 'ratio'] = df_new['ratio'] = df_new['P'] / df_new['G']"
   ]
  },
  {
   "cell_type": "code",
   "execution_count": null,
   "metadata": {},
   "outputs": [],
   "source": []
  },
  {
   "cell_type": "code",
   "execution_count": 7,
   "metadata": {},
   "outputs": [
    {
     "data": {
      "text/html": [
       "<div>\n",
       "<style scoped>\n",
       "    .dataframe tbody tr th:only-of-type {\n",
       "        vertical-align: middle;\n",
       "    }\n",
       "\n",
       "    .dataframe tbody tr th {\n",
       "        vertical-align: top;\n",
       "    }\n",
       "\n",
       "    .dataframe thead th {\n",
       "        text-align: right;\n",
       "    }\n",
       "</style>\n",
       "<table border=\"1\" class=\"dataframe\">\n",
       "  <thead>\n",
       "    <tr style=\"text-align: right;\">\n",
       "      <th></th>\n",
       "      <th>T</th>\n",
       "      <th>G</th>\n",
       "      <th>P</th>\n",
       "      <th>ratio</th>\n",
       "    </tr>\n",
       "  </thead>\n",
       "  <tbody>\n",
       "    <tr>\n",
       "      <td>0</td>\n",
       "      <td>3</td>\n",
       "      <td>0.0</td>\n",
       "      <td>0.0</td>\n",
       "      <td>NaN</td>\n",
       "    </tr>\n",
       "    <tr>\n",
       "      <td>1</td>\n",
       "      <td>3</td>\n",
       "      <td>0.0</td>\n",
       "      <td>0.0</td>\n",
       "      <td>NaN</td>\n",
       "    </tr>\n",
       "    <tr>\n",
       "      <td>2</td>\n",
       "      <td>3</td>\n",
       "      <td>0.0</td>\n",
       "      <td>0.0</td>\n",
       "      <td>NaN</td>\n",
       "    </tr>\n",
       "    <tr>\n",
       "      <td>3</td>\n",
       "      <td>3</td>\n",
       "      <td>0.0</td>\n",
       "      <td>0.0</td>\n",
       "      <td>NaN</td>\n",
       "    </tr>\n",
       "    <tr>\n",
       "      <td>4</td>\n",
       "      <td>3</td>\n",
       "      <td>0.0</td>\n",
       "      <td>0.0</td>\n",
       "      <td>NaN</td>\n",
       "    </tr>\n",
       "    <tr>\n",
       "      <td>...</td>\n",
       "      <td>...</td>\n",
       "      <td>...</td>\n",
       "      <td>...</td>\n",
       "      <td>...</td>\n",
       "    </tr>\n",
       "    <tr>\n",
       "      <td>97195</td>\n",
       "      <td>21</td>\n",
       "      <td>0.0</td>\n",
       "      <td>0.0</td>\n",
       "      <td>NaN</td>\n",
       "    </tr>\n",
       "    <tr>\n",
       "      <td>97196</td>\n",
       "      <td>21</td>\n",
       "      <td>0.0</td>\n",
       "      <td>0.0</td>\n",
       "      <td>NaN</td>\n",
       "    </tr>\n",
       "    <tr>\n",
       "      <td>97197</td>\n",
       "      <td>21</td>\n",
       "      <td>0.0</td>\n",
       "      <td>0.0</td>\n",
       "      <td>NaN</td>\n",
       "    </tr>\n",
       "    <tr>\n",
       "      <td>97198</td>\n",
       "      <td>21</td>\n",
       "      <td>0.0</td>\n",
       "      <td>0.0</td>\n",
       "      <td>NaN</td>\n",
       "    </tr>\n",
       "    <tr>\n",
       "      <td>97199</td>\n",
       "      <td>21</td>\n",
       "      <td>0.0</td>\n",
       "      <td>0.0</td>\n",
       "      <td>NaN</td>\n",
       "    </tr>\n",
       "  </tbody>\n",
       "</table>\n",
       "<p>97200 rows × 4 columns</p>\n",
       "</div>"
      ],
      "text/plain": [
       "        T    G    P  ratio\n",
       "0       3  0.0  0.0    NaN\n",
       "1       3  0.0  0.0    NaN\n",
       "2       3  0.0  0.0    NaN\n",
       "3       3  0.0  0.0    NaN\n",
       "4       3  0.0  0.0    NaN\n",
       "...    ..  ...  ...    ...\n",
       "97195  21  0.0  0.0    NaN\n",
       "97196  21  0.0  0.0    NaN\n",
       "97197  21  0.0  0.0    NaN\n",
       "97198  21  0.0  0.0    NaN\n",
       "97199  21  0.0  0.0    NaN\n",
       "\n",
       "[97200 rows x 4 columns]"
      ]
     },
     "execution_count": 7,
     "metadata": {},
     "output_type": "execute_result"
    }
   ],
   "source": [
    "df_new"
   ]
  },
  {
   "cell_type": "code",
   "execution_count": 8,
   "metadata": {},
   "outputs": [
    {
     "data": {
      "text/plain": [
       "T            0\n",
       "G            0\n",
       "P            0\n",
       "ratio    44233\n",
       "dtype: int64"
      ]
     },
     "execution_count": 8,
     "metadata": {},
     "output_type": "execute_result"
    }
   ],
   "source": [
    "df_new.isnull().sum()"
   ]
  },
  {
   "cell_type": "code",
   "execution_count": 9,
   "metadata": {},
   "outputs": [],
   "source": [
    "df = df_new.dropna(how='any',axis=0) "
   ]
  },
  {
   "cell_type": "code",
   "execution_count": 10,
   "metadata": {},
   "outputs": [
    {
     "data": {
      "text/html": [
       "<div>\n",
       "<style scoped>\n",
       "    .dataframe tbody tr th:only-of-type {\n",
       "        vertical-align: middle;\n",
       "    }\n",
       "\n",
       "    .dataframe tbody tr th {\n",
       "        vertical-align: top;\n",
       "    }\n",
       "\n",
       "    .dataframe thead th {\n",
       "        text-align: right;\n",
       "    }\n",
       "</style>\n",
       "<table border=\"1\" class=\"dataframe\">\n",
       "  <thead>\n",
       "    <tr style=\"text-align: right;\">\n",
       "      <th></th>\n",
       "      <th>T</th>\n",
       "      <th>G</th>\n",
       "      <th>P</th>\n",
       "      <th>ratio</th>\n",
       "    </tr>\n",
       "  </thead>\n",
       "  <tbody>\n",
       "    <tr>\n",
       "      <td>135</td>\n",
       "      <td>6</td>\n",
       "      <td>0.008667</td>\n",
       "      <td>0.018119</td>\n",
       "      <td>2.090618</td>\n",
       "    </tr>\n",
       "    <tr>\n",
       "      <td>136</td>\n",
       "      <td>6</td>\n",
       "      <td>0.164500</td>\n",
       "      <td>0.369489</td>\n",
       "      <td>2.246134</td>\n",
       "    </tr>\n",
       "    <tr>\n",
       "      <td>137</td>\n",
       "      <td>6</td>\n",
       "      <td>0.717500</td>\n",
       "      <td>1.601420</td>\n",
       "      <td>2.231944</td>\n",
       "    </tr>\n",
       "    <tr>\n",
       "      <td>138</td>\n",
       "      <td>6</td>\n",
       "      <td>0.902167</td>\n",
       "      <td>1.973920</td>\n",
       "      <td>2.187976</td>\n",
       "    </tr>\n",
       "    <tr>\n",
       "      <td>139</td>\n",
       "      <td>6</td>\n",
       "      <td>1.086000</td>\n",
       "      <td>2.448440</td>\n",
       "      <td>2.254549</td>\n",
       "    </tr>\n",
       "    <tr>\n",
       "      <td>...</td>\n",
       "      <td>...</td>\n",
       "      <td>...</td>\n",
       "      <td>...</td>\n",
       "      <td>...</td>\n",
       "    </tr>\n",
       "    <tr>\n",
       "      <td>97055</td>\n",
       "      <td>19</td>\n",
       "      <td>0.406667</td>\n",
       "      <td>0.091648</td>\n",
       "      <td>0.225365</td>\n",
       "    </tr>\n",
       "    <tr>\n",
       "      <td>97056</td>\n",
       "      <td>19</td>\n",
       "      <td>0.387167</td>\n",
       "      <td>0.083782</td>\n",
       "      <td>0.216397</td>\n",
       "    </tr>\n",
       "    <tr>\n",
       "      <td>97057</td>\n",
       "      <td>19</td>\n",
       "      <td>0.396667</td>\n",
       "      <td>0.087320</td>\n",
       "      <td>0.220133</td>\n",
       "    </tr>\n",
       "    <tr>\n",
       "      <td>97058</td>\n",
       "      <td>19</td>\n",
       "      <td>0.189333</td>\n",
       "      <td>0.042822</td>\n",
       "      <td>0.226173</td>\n",
       "    </tr>\n",
       "    <tr>\n",
       "      <td>97126</td>\n",
       "      <td>20</td>\n",
       "      <td>0.027167</td>\n",
       "      <td>0.006218</td>\n",
       "      <td>0.228896</td>\n",
       "    </tr>\n",
       "  </tbody>\n",
       "</table>\n",
       "<p>52967 rows × 4 columns</p>\n",
       "</div>"
      ],
      "text/plain": [
       "        T         G         P     ratio\n",
       "135     6  0.008667  0.018119  2.090618\n",
       "136     6  0.164500  0.369489  2.246134\n",
       "137     6  0.717500  1.601420  2.231944\n",
       "138     6  0.902167  1.973920  2.187976\n",
       "139     6  1.086000  2.448440  2.254549\n",
       "...    ..       ...       ...       ...\n",
       "97055  19  0.406667  0.091648  0.225365\n",
       "97056  19  0.387167  0.083782  0.216397\n",
       "97057  19  0.396667  0.087320  0.220133\n",
       "97058  19  0.189333  0.042822  0.226173\n",
       "97126  20  0.027167  0.006218  0.228896\n",
       "\n",
       "[52967 rows x 4 columns]"
      ]
     },
     "execution_count": 10,
     "metadata": {},
     "output_type": "execute_result"
    }
   ],
   "source": [
    "df"
   ]
  },
  {
   "cell_type": "code",
   "execution_count": 11,
   "metadata": {},
   "outputs": [
    {
     "name": "stderr",
     "output_type": "stream",
     "text": [
      "C:\\Users\\zahid.hussain\\AppData\\Local\\Continuum\\anaconda3\\lib\\site-packages\\ipykernel_launcher.py:3: SettingWithCopyWarning: \n",
      "A value is trying to be set on a copy of a slice from a DataFrame.\n",
      "Try using .loc[row_indexer,col_indexer] = value instead\n",
      "\n",
      "See the caveats in the documentation: http://pandas.pydata.org/pandas-docs/stable/user_guide/indexing.html#returning-a-view-versus-a-copy\n",
      "  This is separate from the ipykernel package so we can avoid doing imports until\n"
     ]
    }
   ],
   "source": [
    "m = df['T'].between(8,16,inclusive=False)\n",
    "g = m.ne(m.shift()).cumsum()\n",
    "df['r_new'] = df.groupby(g)['ratio'].transform('mean')\n",
    "export=df.to_excel(r'C:\\Users\\zahid.hussain\\nn.xlsx', index=None, header=True)"
   ]
  },
  {
   "cell_type": "code",
   "execution_count": 12,
   "metadata": {},
   "outputs": [
    {
     "data": {
      "text/html": [
       "<div>\n",
       "<style scoped>\n",
       "    .dataframe tbody tr th:only-of-type {\n",
       "        vertical-align: middle;\n",
       "    }\n",
       "\n",
       "    .dataframe tbody tr th {\n",
       "        vertical-align: top;\n",
       "    }\n",
       "\n",
       "    .dataframe thead th {\n",
       "        text-align: right;\n",
       "    }\n",
       "</style>\n",
       "<table border=\"1\" class=\"dataframe\">\n",
       "  <thead>\n",
       "    <tr style=\"text-align: right;\">\n",
       "      <th></th>\n",
       "      <th>T</th>\n",
       "      <th>G</th>\n",
       "      <th>P</th>\n",
       "      <th>ratio</th>\n",
       "      <th>r_new</th>\n",
       "    </tr>\n",
       "  </thead>\n",
       "  <tbody>\n",
       "    <tr>\n",
       "      <td>135</td>\n",
       "      <td>6</td>\n",
       "      <td>0.008667</td>\n",
       "      <td>0.018119</td>\n",
       "      <td>2.090618</td>\n",
       "      <td>2.194815</td>\n",
       "    </tr>\n",
       "    <tr>\n",
       "      <td>136</td>\n",
       "      <td>6</td>\n",
       "      <td>0.164500</td>\n",
       "      <td>0.369489</td>\n",
       "      <td>2.246134</td>\n",
       "      <td>2.194815</td>\n",
       "    </tr>\n",
       "    <tr>\n",
       "      <td>137</td>\n",
       "      <td>6</td>\n",
       "      <td>0.717500</td>\n",
       "      <td>1.601420</td>\n",
       "      <td>2.231944</td>\n",
       "      <td>2.194815</td>\n",
       "    </tr>\n",
       "    <tr>\n",
       "      <td>138</td>\n",
       "      <td>6</td>\n",
       "      <td>0.902167</td>\n",
       "      <td>1.973920</td>\n",
       "      <td>2.187976</td>\n",
       "      <td>2.194815</td>\n",
       "    </tr>\n",
       "    <tr>\n",
       "      <td>139</td>\n",
       "      <td>6</td>\n",
       "      <td>1.086000</td>\n",
       "      <td>2.448440</td>\n",
       "      <td>2.254549</td>\n",
       "      <td>2.194815</td>\n",
       "    </tr>\n",
       "    <tr>\n",
       "      <td>...</td>\n",
       "      <td>...</td>\n",
       "      <td>...</td>\n",
       "      <td>...</td>\n",
       "      <td>...</td>\n",
       "      <td>...</td>\n",
       "    </tr>\n",
       "    <tr>\n",
       "      <td>97055</td>\n",
       "      <td>19</td>\n",
       "      <td>0.406667</td>\n",
       "      <td>0.091648</td>\n",
       "      <td>0.225365</td>\n",
       "      <td>0.219816</td>\n",
       "    </tr>\n",
       "    <tr>\n",
       "      <td>97056</td>\n",
       "      <td>19</td>\n",
       "      <td>0.387167</td>\n",
       "      <td>0.083782</td>\n",
       "      <td>0.216397</td>\n",
       "      <td>0.219816</td>\n",
       "    </tr>\n",
       "    <tr>\n",
       "      <td>97057</td>\n",
       "      <td>19</td>\n",
       "      <td>0.396667</td>\n",
       "      <td>0.087320</td>\n",
       "      <td>0.220133</td>\n",
       "      <td>0.219816</td>\n",
       "    </tr>\n",
       "    <tr>\n",
       "      <td>97058</td>\n",
       "      <td>19</td>\n",
       "      <td>0.189333</td>\n",
       "      <td>0.042822</td>\n",
       "      <td>0.226173</td>\n",
       "      <td>0.219816</td>\n",
       "    </tr>\n",
       "    <tr>\n",
       "      <td>97126</td>\n",
       "      <td>20</td>\n",
       "      <td>0.027167</td>\n",
       "      <td>0.006218</td>\n",
       "      <td>0.228896</td>\n",
       "      <td>0.219816</td>\n",
       "    </tr>\n",
       "  </tbody>\n",
       "</table>\n",
       "<p>52967 rows × 5 columns</p>\n",
       "</div>"
      ],
      "text/plain": [
       "        T         G         P     ratio     r_new\n",
       "135     6  0.008667  0.018119  2.090618  2.194815\n",
       "136     6  0.164500  0.369489  2.246134  2.194815\n",
       "137     6  0.717500  1.601420  2.231944  2.194815\n",
       "138     6  0.902167  1.973920  2.187976  2.194815\n",
       "139     6  1.086000  2.448440  2.254549  2.194815\n",
       "...    ..       ...       ...       ...       ...\n",
       "97055  19  0.406667  0.091648  0.225365  0.219816\n",
       "97056  19  0.387167  0.083782  0.216397  0.219816\n",
       "97057  19  0.396667  0.087320  0.220133  0.219816\n",
       "97058  19  0.189333  0.042822  0.226173  0.219816\n",
       "97126  20  0.027167  0.006218  0.228896  0.219816\n",
       "\n",
       "[52967 rows x 5 columns]"
      ]
     },
     "execution_count": 12,
     "metadata": {},
     "output_type": "execute_result"
    }
   ],
   "source": [
    "df"
   ]
  },
  {
   "cell_type": "code",
   "execution_count": 13,
   "metadata": {},
   "outputs": [],
   "source": [
    "df_r= df.loc[(df['T'] > 8) & (df['T'] < 16)]"
   ]
  },
  {
   "cell_type": "code",
   "execution_count": 14,
   "metadata": {},
   "outputs": [],
   "source": [
    "km=KMeans(n_clusters=10,random_state=325)\n",
    "y_pred=km.fit_predict(df_r[['r_new']])"
   ]
  },
  {
   "cell_type": "code",
   "execution_count": 15,
   "metadata": {},
   "outputs": [
    {
     "name": "stderr",
     "output_type": "stream",
     "text": [
      "C:\\Users\\zahid.hussain\\AppData\\Local\\Continuum\\anaconda3\\lib\\site-packages\\ipykernel_launcher.py:1: SettingWithCopyWarning: \n",
      "A value is trying to be set on a copy of a slice from a DataFrame.\n",
      "Try using .loc[row_indexer,col_indexer] = value instead\n",
      "\n",
      "See the caveats in the documentation: http://pandas.pydata.org/pandas-docs/stable/user_guide/indexing.html#returning-a-view-versus-a-copy\n",
      "  \"\"\"Entry point for launching an IPython kernel.\n"
     ]
    }
   ],
   "source": [
    "df_r['cluster']=y_pred"
   ]
  },
  {
   "cell_type": "code",
   "execution_count": 16,
   "metadata": {},
   "outputs": [
    {
     "data": {
      "text/html": [
       "<div>\n",
       "<style scoped>\n",
       "    .dataframe tbody tr th:only-of-type {\n",
       "        vertical-align: middle;\n",
       "    }\n",
       "\n",
       "    .dataframe tbody tr th {\n",
       "        vertical-align: top;\n",
       "    }\n",
       "\n",
       "    .dataframe thead th {\n",
       "        text-align: right;\n",
       "    }\n",
       "</style>\n",
       "<table border=\"1\" class=\"dataframe\">\n",
       "  <thead>\n",
       "    <tr style=\"text-align: right;\">\n",
       "      <th></th>\n",
       "      <th>T</th>\n",
       "      <th>G</th>\n",
       "      <th>P</th>\n",
       "      <th>ratio</th>\n",
       "      <th>r_new</th>\n",
       "      <th>cluster</th>\n",
       "    </tr>\n",
       "  </thead>\n",
       "  <tbody>\n",
       "    <tr>\n",
       "      <td>306</td>\n",
       "      <td>9</td>\n",
       "      <td>133.609</td>\n",
       "      <td>307.3560</td>\n",
       "      <td>2.300414</td>\n",
       "      <td>2.200728</td>\n",
       "      <td>0</td>\n",
       "    </tr>\n",
       "    <tr>\n",
       "      <td>307</td>\n",
       "      <td>9</td>\n",
       "      <td>134.049</td>\n",
       "      <td>302.3410</td>\n",
       "      <td>2.255451</td>\n",
       "      <td>2.200728</td>\n",
       "      <td>0</td>\n",
       "    </tr>\n",
       "    <tr>\n",
       "      <td>308</td>\n",
       "      <td>9</td>\n",
       "      <td>134.612</td>\n",
       "      <td>301.5010</td>\n",
       "      <td>2.239778</td>\n",
       "      <td>2.200728</td>\n",
       "      <td>0</td>\n",
       "    </tr>\n",
       "    <tr>\n",
       "      <td>309</td>\n",
       "      <td>9</td>\n",
       "      <td>135.299</td>\n",
       "      <td>295.0560</td>\n",
       "      <td>2.180770</td>\n",
       "      <td>2.200728</td>\n",
       "      <td>0</td>\n",
       "    </tr>\n",
       "    <tr>\n",
       "      <td>310</td>\n",
       "      <td>9</td>\n",
       "      <td>135.646</td>\n",
       "      <td>299.6570</td>\n",
       "      <td>2.209110</td>\n",
       "      <td>2.200728</td>\n",
       "      <td>0</td>\n",
       "    </tr>\n",
       "    <tr>\n",
       "      <td>...</td>\n",
       "      <td>...</td>\n",
       "      <td>...</td>\n",
       "      <td>...</td>\n",
       "      <td>...</td>\n",
       "      <td>...</td>\n",
       "      <td>...</td>\n",
       "    </tr>\n",
       "    <tr>\n",
       "      <td>96841</td>\n",
       "      <td>15</td>\n",
       "      <td>244.799</td>\n",
       "      <td>56.5070</td>\n",
       "      <td>0.230830</td>\n",
       "      <td>0.220369</td>\n",
       "      <td>3</td>\n",
       "    </tr>\n",
       "    <tr>\n",
       "      <td>96842</td>\n",
       "      <td>15</td>\n",
       "      <td>243.040</td>\n",
       "      <td>53.8277</td>\n",
       "      <td>0.221477</td>\n",
       "      <td>0.220369</td>\n",
       "      <td>3</td>\n",
       "    </tr>\n",
       "    <tr>\n",
       "      <td>96843</td>\n",
       "      <td>15</td>\n",
       "      <td>242.324</td>\n",
       "      <td>50.8073</td>\n",
       "      <td>0.209667</td>\n",
       "      <td>0.220369</td>\n",
       "      <td>3</td>\n",
       "    </tr>\n",
       "    <tr>\n",
       "      <td>96844</td>\n",
       "      <td>15</td>\n",
       "      <td>241.094</td>\n",
       "      <td>53.5239</td>\n",
       "      <td>0.222004</td>\n",
       "      <td>0.220369</td>\n",
       "      <td>3</td>\n",
       "    </tr>\n",
       "    <tr>\n",
       "      <td>96845</td>\n",
       "      <td>15</td>\n",
       "      <td>239.830</td>\n",
       "      <td>53.0583</td>\n",
       "      <td>0.221233</td>\n",
       "      <td>0.220369</td>\n",
       "      <td>3</td>\n",
       "    </tr>\n",
       "  </tbody>\n",
       "</table>\n",
       "<p>29400 rows × 6 columns</p>\n",
       "</div>"
      ],
      "text/plain": [
       "        T        G         P     ratio     r_new  cluster\n",
       "306     9  133.609  307.3560  2.300414  2.200728        0\n",
       "307     9  134.049  302.3410  2.255451  2.200728        0\n",
       "308     9  134.612  301.5010  2.239778  2.200728        0\n",
       "309     9  135.299  295.0560  2.180770  2.200728        0\n",
       "310     9  135.646  299.6570  2.209110  2.200728        0\n",
       "...    ..      ...       ...       ...       ...      ...\n",
       "96841  15  244.799   56.5070  0.230830  0.220369        3\n",
       "96842  15  243.040   53.8277  0.221477  0.220369        3\n",
       "96843  15  242.324   50.8073  0.209667  0.220369        3\n",
       "96844  15  241.094   53.5239  0.222004  0.220369        3\n",
       "96845  15  239.830   53.0583  0.221233  0.220369        3\n",
       "\n",
       "[29400 rows x 6 columns]"
      ]
     },
     "execution_count": 16,
     "metadata": {},
     "output_type": "execute_result"
    }
   ],
   "source": [
    "df_r"
   ]
  },
  {
   "cell_type": "code",
   "execution_count": 17,
   "metadata": {},
   "outputs": [
    {
     "data": {
      "text/plain": [
       "T            9.000000\n",
       "G          144.779000\n",
       "P          308.611000\n",
       "ratio        2.131601\n",
       "r_new        2.204009\n",
       "cluster      0.000000\n",
       "Name: 8946, dtype: float64"
      ]
     },
     "execution_count": 17,
     "metadata": {},
     "output_type": "execute_result"
    }
   ],
   "source": [
    "df_r.loc[df_r['r_new'].idxmax()]"
   ]
  },
  {
   "cell_type": "code",
   "execution_count": 18,
   "metadata": {},
   "outputs": [
    {
     "data": {
      "text/plain": [
       "<matplotlib.collections.PathCollection at 0x1f863a81108>"
      ]
     },
     "execution_count": 18,
     "metadata": {},
     "output_type": "execute_result"
    },
    {
     "data": {
      "image/png": "[encoded data removed]",
      "text/plain": [
       "<Figure size 432x288 with 1 Axes>"
      ]
     },
     "metadata": {
      "needs_background": "light"
     },
     "output_type": "display_data"
    }
   ],
   "source": [
    "df0=df_r[df_r.cluster==0]\n",
    "df1=df_r[df_r.cluster==1]\n",
    "df2=df_r[df_r.cluster==2]\n",
    "df3=df_r[df_r.cluster==3]\n",
    "df4=df_r[df_r.cluster==4]\n",
    "df5=df_r[df_r.cluster==5]\n",
    "df6=df_r[df_r.cluster==6]\n",
    "df7=df_r[df_r.cluster==7]\n",
    "df8=df_r[df_r.cluster==8]\n",
    "df9=df_r[df_r.cluster==9]\n",
    "\n",
    "\n",
    "\n",
    "plt.scatter(df0.r_new,df0.G, color='green')\n",
    "plt.scatter(df1.r_new,df1.G, color='blue')\n",
    "plt.scatter(df2.r_new,df2.G, color='red')\n",
    "plt.scatter(df3.r_new,df3.G, color='orange')\n",
    "plt.scatter(df4.r_new,df4.G, color='yellow')\n",
    "plt.scatter(df5.r_new,df5.G, color='grey')\n",
    "plt.scatter(df6.r_new,df6.G, color='purple')\n",
    "plt.scatter(df7.r_new,df7.G, color='black')\n",
    "plt.scatter(df8.r_new,df8.G, color='silver')\n",
    "plt.scatter(df9.r_new,df9.G, color='gold')"
   ]
  },
  {
   "cell_type": "code",
   "execution_count": 73,
   "metadata": {},
   "outputs": [
    {
     "data": {
      "text/plain": [
       "<matplotlib.collections.PathCollection at 0x1909507fe08>"
      ]
     },
     "execution_count": 73,
     "metadata": {},
     "output_type": "execute_result"
    },
    {
     "data": {
      "image/png": "[encoded data removed]",
      "text/plain": [
       "<Figure size 432x288 with 1 Axes>"
      ]
     },
     "metadata": {
      "needs_background": "light"
     },
     "output_type": "display_data"
    }
   ],
   "source": [
    "df0=df_r[df_r.cluster==0]\n",
    "df1=df_r[df_r.cluster==1]\n",
    "df2=df_r[df_r.cluster==2]\n",
    "df3=df_r[df_r.cluster==3]\n",
    "df4=df_r[df_r.cluster==4]\n",
    "df5=df_r[df_r.cluster==5]\n",
    "df6=df_r[df_r.cluster==6]\n",
    "df7=df_r[df_r.cluster==7]\n",
    "df8=df_r[df_r.cluster==8]\n",
    "df9=df_r[df_r.cluster==9]\n",
    "\n",
    "\n",
    "\n",
    "plt.scatter(df0.r_new,df0.P, color='green')\n",
    "plt.scatter(df1.r_new,df1.P, color='blue')\n",
    "plt.scatter(df2.r_new,df2.P, color='red')\n",
    "plt.scatter(df3.r_new,df3.P, color='orange')\n",
    "plt.scatter(df4.r_new,df4.P, color='yellow')\n",
    "plt.scatter(df5.r_new,df5.P, color='grey')\n",
    "plt.scatter(df6.r_new,df6.P, color='purple')\n",
    "plt.scatter(df7.r_new,df7.P, color='black')\n",
    "plt.scatter(df8.r_new,df8.P, color='silver')\n",
    "plt.scatter(df9.r_new,df9.P, color='gold')"
   ]
  },
  {
   "cell_type": "code",
   "execution_count": 19,
   "metadata": {},
   "outputs": [],
   "source": [
    "km=KMeans(n_clusters=10,random_state=325)\n",
    "y_pred=km.fit_predict(df[['ratio']])"
   ]
  },
  {
   "cell_type": "code",
   "execution_count": 20,
   "metadata": {},
   "outputs": [
    {
     "name": "stderr",
     "output_type": "stream",
     "text": [
      "C:\\Users\\zahid.hussain\\AppData\\Local\\Continuum\\anaconda3\\lib\\site-packages\\ipykernel_launcher.py:1: SettingWithCopyWarning: \n",
      "A value is trying to be set on a copy of a slice from a DataFrame.\n",
      "Try using .loc[row_indexer,col_indexer] = value instead\n",
      "\n",
      "See the caveats in the documentation: http://pandas.pydata.org/pandas-docs/stable/user_guide/indexing.html#returning-a-view-versus-a-copy\n",
      "  \"\"\"Entry point for launching an IPython kernel.\n"
     ]
    }
   ],
   "source": [
    "df['cluster']=y_pred"
   ]
  },
  {
   "cell_type": "code",
   "execution_count": 21,
   "metadata": {},
   "outputs": [
    {
     "data": {
      "text/html": [
       "<div>\n",
       "<style scoped>\n",
       "    .dataframe tbody tr th:only-of-type {\n",
       "        vertical-align: middle;\n",
       "    }\n",
       "\n",
       "    .dataframe tbody tr th {\n",
       "        vertical-align: top;\n",
       "    }\n",
       "\n",
       "    .dataframe thead th {\n",
       "        text-align: right;\n",
       "    }\n",
       "</style>\n",
       "<table border=\"1\" class=\"dataframe\">\n",
       "  <thead>\n",
       "    <tr style=\"text-align: right;\">\n",
       "      <th></th>\n",
       "      <th>T</th>\n",
       "      <th>G</th>\n",
       "      <th>P</th>\n",
       "      <th>ratio</th>\n",
       "      <th>r_new</th>\n",
       "      <th>cluster</th>\n",
       "    </tr>\n",
       "  </thead>\n",
       "  <tbody>\n",
       "    <tr>\n",
       "      <td>135</td>\n",
       "      <td>6</td>\n",
       "      <td>0.008667</td>\n",
       "      <td>0.018119</td>\n",
       "      <td>2.090618</td>\n",
       "      <td>2.194815</td>\n",
       "      <td>3</td>\n",
       "    </tr>\n",
       "    <tr>\n",
       "      <td>136</td>\n",
       "      <td>6</td>\n",
       "      <td>0.164500</td>\n",
       "      <td>0.369489</td>\n",
       "      <td>2.246134</td>\n",
       "      <td>2.194815</td>\n",
       "      <td>3</td>\n",
       "    </tr>\n",
       "    <tr>\n",
       "      <td>137</td>\n",
       "      <td>6</td>\n",
       "      <td>0.717500</td>\n",
       "      <td>1.601420</td>\n",
       "      <td>2.231944</td>\n",
       "      <td>2.194815</td>\n",
       "      <td>3</td>\n",
       "    </tr>\n",
       "    <tr>\n",
       "      <td>138</td>\n",
       "      <td>6</td>\n",
       "      <td>0.902167</td>\n",
       "      <td>1.973920</td>\n",
       "      <td>2.187976</td>\n",
       "      <td>2.194815</td>\n",
       "      <td>3</td>\n",
       "    </tr>\n",
       "    <tr>\n",
       "      <td>139</td>\n",
       "      <td>6</td>\n",
       "      <td>1.086000</td>\n",
       "      <td>2.448440</td>\n",
       "      <td>2.254549</td>\n",
       "      <td>2.194815</td>\n",
       "      <td>3</td>\n",
       "    </tr>\n",
       "    <tr>\n",
       "      <td>...</td>\n",
       "      <td>...</td>\n",
       "      <td>...</td>\n",
       "      <td>...</td>\n",
       "      <td>...</td>\n",
       "      <td>...</td>\n",
       "      <td>...</td>\n",
       "    </tr>\n",
       "    <tr>\n",
       "      <td>97055</td>\n",
       "      <td>19</td>\n",
       "      <td>0.406667</td>\n",
       "      <td>0.091648</td>\n",
       "      <td>0.225365</td>\n",
       "      <td>0.219816</td>\n",
       "      <td>4</td>\n",
       "    </tr>\n",
       "    <tr>\n",
       "      <td>97056</td>\n",
       "      <td>19</td>\n",
       "      <td>0.387167</td>\n",
       "      <td>0.083782</td>\n",
       "      <td>0.216397</td>\n",
       "      <td>0.219816</td>\n",
       "      <td>4</td>\n",
       "    </tr>\n",
       "    <tr>\n",
       "      <td>97057</td>\n",
       "      <td>19</td>\n",
       "      <td>0.396667</td>\n",
       "      <td>0.087320</td>\n",
       "      <td>0.220133</td>\n",
       "      <td>0.219816</td>\n",
       "      <td>4</td>\n",
       "    </tr>\n",
       "    <tr>\n",
       "      <td>97058</td>\n",
       "      <td>19</td>\n",
       "      <td>0.189333</td>\n",
       "      <td>0.042822</td>\n",
       "      <td>0.226173</td>\n",
       "      <td>0.219816</td>\n",
       "      <td>4</td>\n",
       "    </tr>\n",
       "    <tr>\n",
       "      <td>97126</td>\n",
       "      <td>20</td>\n",
       "      <td>0.027167</td>\n",
       "      <td>0.006218</td>\n",
       "      <td>0.228896</td>\n",
       "      <td>0.219816</td>\n",
       "      <td>4</td>\n",
       "    </tr>\n",
       "  </tbody>\n",
       "</table>\n",
       "<p>52967 rows × 6 columns</p>\n",
       "</div>"
      ],
      "text/plain": [
       "        T         G         P     ratio     r_new  cluster\n",
       "135     6  0.008667  0.018119  2.090618  2.194815        3\n",
       "136     6  0.164500  0.369489  2.246134  2.194815        3\n",
       "137     6  0.717500  1.601420  2.231944  2.194815        3\n",
       "138     6  0.902167  1.973920  2.187976  2.194815        3\n",
       "139     6  1.086000  2.448440  2.254549  2.194815        3\n",
       "...    ..       ...       ...       ...       ...      ...\n",
       "97055  19  0.406667  0.091648  0.225365  0.219816        4\n",
       "97056  19  0.387167  0.083782  0.216397  0.219816        4\n",
       "97057  19  0.396667  0.087320  0.220133  0.219816        4\n",
       "97058  19  0.189333  0.042822  0.226173  0.219816        4\n",
       "97126  20  0.027167  0.006218  0.228896  0.219816        4\n",
       "\n",
       "[52967 rows x 6 columns]"
      ]
     },
     "execution_count": 21,
     "metadata": {},
     "output_type": "execute_result"
    }
   ],
   "source": [
    "df"
   ]
  },
  {
   "cell_type": "code",
   "execution_count": 22,
   "metadata": {},
   "outputs": [
    {
     "data": {
      "text/plain": [
       "T           10.000000\n",
       "G          185.193000\n",
       "P          427.791000\n",
       "ratio        2.309974\n",
       "r_new        2.194048\n",
       "cluster      3.000000\n",
       "Name: 3254, dtype: float64"
      ]
     },
     "execution_count": 22,
     "metadata": {},
     "output_type": "execute_result"
    }
   ],
   "source": [
    "df.loc[df['ratio'].idxmax()]"
   ]
  },
  {
   "cell_type": "code",
   "execution_count": 23,
   "metadata": {},
   "outputs": [
    {
     "data": {
      "text/plain": [
       "<matplotlib.collections.PathCollection at 0x1f865fa6148>"
      ]
     },
     "execution_count": 23,
     "metadata": {},
     "output_type": "execute_result"
    },
    {
     "data": {
      "image/png": "[encoded data removed]",
      "text/plain": [
       "<Figure size 432x288 with 1 Axes>"
      ]
     },
     "metadata": {
      "needs_background": "light"
     },
     "output_type": "display_data"
    }
   ],
   "source": [
    "df0=df[df.cluster==0]\n",
    "df1=df[df.cluster==1]\n",
    "df2=df[df.cluster==2]\n",
    "df3=df[df.cluster==3]\n",
    "df4=df[df.cluster==4]\n",
    "df5=df[df.cluster==5]\n",
    "df6=df[df.cluster==6]\n",
    "df7=df[df.cluster==7]\n",
    "df8=df[df.cluster==8]\n",
    "df9=df[df.cluster==9]\n",
    "\n",
    "\n",
    "\n",
    "plt.scatter(df0.ratio,df0.G, color='green')\n",
    "plt.scatter(df1.ratio,df1.G, color='blue')\n",
    "plt.scatter(df2.ratio,df2.G, color='red')\n",
    "plt.scatter(df3.ratio,df3.G, color='orange')\n",
    "plt.scatter(df4.ratio,df4.G, color='yellow')\n",
    "plt.scatter(df5.ratio,df5.G, color='grey')\n",
    "plt.scatter(df6.ratio,df6.G, color='purple')\n",
    "plt.scatter(df7.ratio,df7.G, color='black')\n",
    "plt.scatter(df8.ratio,df8.G, color='silver')\n",
    "plt.scatter(df9.ratio,df9.G, color='gold')\n"
   ]
  },
  {
   "cell_type": "code",
   "execution_count": 24,
   "metadata": {},
   "outputs": [
    {
     "data": {
      "text/plain": [
       "<matplotlib.collections.PathCollection at 0x1f8660099c8>"
      ]
     },
     "execution_count": 24,
     "metadata": {},
     "output_type": "execute_result"
    },
    {
     "data": {
      "image/png": "[encoded data removed]",
      "text/plain": [
       "<Figure size 432x288 with 1 Axes>"
      ]
     },
     "metadata": {
      "needs_background": "light"
     },
     "output_type": "display_data"
    }
   ],
   "source": [
    "df0=df[df.cluster==0]\n",
    "df1=df[df.cluster==1]\n",
    "df2=df[df.cluster==2]\n",
    "df3=df[df.cluster==3]\n",
    "df4=df[df.cluster==4]\n",
    "df5=df[df.cluster==5]\n",
    "df6=df[df.cluster==6]\n",
    "df7=df[df.cluster==7]\n",
    "df8=df[df.cluster==8]\n",
    "df9=df[df.cluster==9]\n",
    "\n",
    "\n",
    "\n",
    "plt.scatter(df0.ratio,df0.P, color='green')\n",
    "plt.scatter(df1.ratio,df1.P, color='blue')\n",
    "plt.scatter(df2.ratio,df2.P, color='red')\n",
    "plt.scatter(df3.ratio,df3.P, color='orange')\n",
    "plt.scatter(df4.ratio,df4.P, color='yellow')\n",
    "plt.scatter(df5.ratio,df5.P, color='grey')\n",
    "plt.scatter(df6.ratio,df6.P, color='purple')\n",
    "plt.scatter(df7.ratio,df7.P, color='black')\n",
    "plt.scatter(df8.ratio,df8.P, color='silver')\n",
    "plt.scatter(df9.ratio,df9.P, color='gold')"
   ]
  }
 ],
 "metadata": {
  "kernelspec": {
   "display_name": "Python 3",
   "language": "python",
   "name": "python3"
  },
  "language_info": {
   "codemirror_mode": {
    "name": "ipython",
    "version": 3
   },
   "file_extension": ".py",
   "mimetype": "text/x-python",
   "name": "python",
   "nbconvert_exporter": "python",
   "pygments_lexer": "ipython3",
   "version": "3.7.4"
  }
 },
 "nbformat": 4,
 "nbformat_minor": 2
}
